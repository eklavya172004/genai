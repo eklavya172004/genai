{
 "cells": [
  {
   "cell_type": "markdown",
   "metadata": {},
   "source": [
    "to do list "
   ]
  },
  {
   "cell_type": "code",
   "execution_count": 2,
   "metadata": {},
   "outputs": [
    {
     "name": "stdout",
     "output_type": "stream",
     "text": [
      "Postive feedback Count:3\n",
      "User feedbacks\n",
      "-very good\n",
      "-amazing\n",
      "-nice\n",
      "-very bad\n",
      "-amazing good\n",
      "-Not happy\n"
     ]
    }
   ],
   "source": [
    "feedback=[\"very good\", \"amazing\",\"nice\",\"very bad\",\"amazing good\"]\n",
    "\n",
    "feedback.append(\"Not happy\")\n",
    "\n",
    "positive_feedback=sum(1 for comment in feedback if \"good\" in comment.lower() or \"amazing\" in comment.lower())\n",
    "print(f\"Postive feedback Count:{positive_feedback}\")\n",
    "\n",
    "print(\"User feedbacks\")\n",
    "\n",
    "for feedback in feedback:\n",
    "    print(f\"-{feedback}\")"
   ]
  },
  {
   "cell_type": "code",
   "execution_count": null,
   "metadata": {},
   "outputs": [],
   "source": []
  }
 ],
 "metadata": {
  "kernelspec": {
   "display_name": "gen-ai",
   "language": "python",
   "name": "python3"
  },
  "language_info": {
   "codemirror_mode": {
    "name": "ipython",
    "version": 3
   },
   "file_extension": ".py",
   "mimetype": "text/x-python",
   "name": "python",
   "nbconvert_exporter": "python",
   "pygments_lexer": "ipython3",
   "version": "3.12.9"
  }
 },
 "nbformat": 4,
 "nbformat_minor": 2
}
