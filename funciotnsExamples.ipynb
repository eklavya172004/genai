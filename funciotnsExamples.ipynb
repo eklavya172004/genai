{
 "cells": [
  {
   "cell_type": "markdown",
   "metadata": {},
   "source": [
    "Password generator"
   ]
  },
  {
   "cell_type": "code",
   "execution_count": 6,
   "metadata": {},
   "outputs": [],
   "source": [
    "def is_strong_password(password):\n",
    "    # any() checks if at least one element in an iterable is True.\n",
    "    if len(password) < 8:\n",
    "        return False\n",
    "    if not any(char.isdigit() for char in password):\n",
    "        return False\n",
    "    if not any(char.isupper() for char in password):\n",
    "        return False\n",
    "    if not any(char.islower() for char in password):\n",
    "        return False\n",
    "    if not any(char in \"!@#$%^&*\" for char in password):\n",
    "        return False\n",
    "    return True"
   ]
  },
  {
   "cell_type": "code",
   "execution_count": 8,
   "metadata": {},
   "outputs": [
    {
     "name": "stdout",
     "output_type": "stream",
     "text": [
      "True\n"
     ]
    }
   ],
   "source": [
    "print(is_strong_password(\"Password1#23\"))\n"
   ]
  },
  {
   "cell_type": "markdown",
   "metadata": {},
   "source": [
    "calculating the total cost of items in a shopping cart"
   ]
  },
  {
   "cell_type": "code",
   "execution_count": 9,
   "metadata": {},
   "outputs": [
    {
     "name": "stdout",
     "output_type": "stream",
     "text": [
      "3.1\n"
     ]
    }
   ],
   "source": [
    "# example cart data\n",
    "def calculate_total_price(cart):\n",
    "    total = 0\n",
    "\n",
    "    for item in cart:\n",
    "        total += item[\"price\"] * item[\"quantity\"]\n",
    "    return total\n",
    "\n",
    "cart = [\n",
    "    {\"name\": \"apple\", \"price\": 0.5, \"quantity\": 3},\n",
    "    {\"name\": \"banana\", \"price\": 0.3, \"quantity\": 2},\n",
    "    {\"name\": \"orange\", \"price\": 0.2, \"quantity\": 5},\n",
    "]\n",
    "\n",
    "print(calculate_total_price(cart))"
   ]
  },
  {
   "cell_type": "markdown",
   "metadata": {},
   "source": [
    "checking if the string is palindrome or not"
   ]
  },
  {
   "cell_type": "code",
   "execution_count": null,
   "metadata": {},
   "outputs": [
    {
     "name": "stdout",
     "output_type": "stream",
     "text": [
      "True\n"
     ]
    }
   ],
   "source": [
    "def check_palindrome(word):\n",
    "    word=word.lower().replace(\" \",\"\")\n",
    "\n",
    "    return word == word[::-1]\n",
    "# it reverses the string\n",
    "\n",
    "print(check_palindrome(\"A man a plan a canal Panama\"))"
   ]
  },
  {
   "cell_type": "markdown",
   "metadata": {},
   "source": [
    "factorial of a number using recursion"
   ]
  },
  {
   "cell_type": "code",
   "execution_count": 22,
   "metadata": {},
   "outputs": [],
   "source": [
    "def check_recursion(num):\n",
    "    if num == 0:\n",
    "        return 1\n",
    "    else:\n",
    "        num * check_recursion(num-1)"
   ]
  },
  {
   "cell_type": "code",
   "execution_count": 23,
   "metadata": {},
   "outputs": [
    {
     "name": "stdout",
     "output_type": "stream",
     "text": [
      "1\n"
     ]
    }
   ],
   "source": [
    "print(check_recursion(0))"
   ]
  },
  {
   "cell_type": "code",
   "execution_count": 27,
   "metadata": {},
   "outputs": [
    {
     "name": "stdout",
     "output_type": "stream",
     "text": [
      "{'hello': 1, 'myself': 1, 'eklavya': 4, 'nath': 1, 'and': 2, 'i': 2, 'am': 2, 'very': 2, 'best': 1, 'in': 2, 'doing': 1, 'my': 3, 'work': 2, 'can': 1, 'do': 1, 'wonder': 1, 'life': 1, 'dedicated': 1, 'to': 1}\n"
     ]
    }
   ],
   "source": [
    "def count_words_frequency(file_path):\n",
    "    word_frequency = {}\n",
    "\n",
    "    with open(file_path,\"r\") as file:\n",
    "        for line in file:\n",
    "            words = line.split()\n",
    "            for word in words:\n",
    "                word = word.lower().strip('.,?:;\"\\'')\n",
    "                # # Remove punctuation strip() removes any leading (spaces at the beginning) and trailing (spaces at the end) characters (space is the default leading character to remove)\n",
    "                word_frequency[word] = word_frequency.get(word,0) + 1 # get() method returns the value for the specified key if key is in dictionary or it will assign 0 or if present it will give 1.\n",
    "    return word_frequency\n",
    "\n",
    "filepath = 'python.txt'\n",
    "print(count_words_frequency(filepath))\n"
   ]
  },
  {
   "cell_type": "markdown",
   "metadata": {},
   "source": [
    "validate the email address"
   ]
  },
  {
   "cell_type": "code",
   "execution_count": null,
   "metadata": {},
   "outputs": [],
   "source": [
    "import re \n",
    "\n",
    "def validate_email(email):\n",
    "    pattern = r'^[a-zA-Z]+\\d+@snu\\.edu\\.in$'\n",
    "\n",
    "    return re.match(pattern,email) is not None"
   ]
  },
  {
   "cell_type": "code",
   "execution_count": null,
   "metadata": {},
   "outputs": [
    {
     "name": "stdout",
     "output_type": "stream",
     "text": [
      "True\n"
     ]
    },
    {
     "ename": "",
     "evalue": "",
     "output_type": "error",
     "traceback": [
      "\u001b[1;31mThe Kernel crashed while executing code in the current cell or a previous cell. \n",
      "\u001b[1;31mPlease review the code in the cell(s) to identify a possible cause of the failure. \n",
      "\u001b[1;31mClick <a href='https://aka.ms/vscodeJupyterKernelCrash'>here</a> for more info. \n",
      "\u001b[1;31mView Jupyter <a href='command:jupyter.viewOutput'>log</a> for further details."
     ]
    }
   ],
   "source": [
    "print(validate_email(\"test32@snu.edu.in\"))"
   ]
  },
  {
   "cell_type": "code",
   "execution_count": null,
   "metadata": {},
   "outputs": [],
   "source": []
  }
 ],
 "metadata": {
  "kernelspec": {
   "display_name": "gen-ai",
   "language": "python",
   "name": "python3"
  },
  "language_info": {
   "codemirror_mode": {
    "name": "ipython",
    "version": 3
   },
   "file_extension": ".py",
   "mimetype": "text/x-python",
   "name": "python",
   "nbconvert_exporter": "python",
   "pygments_lexer": "ipython3",
   "version": "3.12.9"
  }
 },
 "nbformat": 4,
 "nbformat_minor": 2
}
