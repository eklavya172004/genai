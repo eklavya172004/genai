{
 "cells": [
  {
   "cell_type": "code",
   "execution_count": null,
   "metadata": {},
   "outputs": [
    {
     "name": "stdout",
     "output_type": "stream",
     "text": [
      "helllo myself eklavya nath and i am developing myself daily and i want to achieve great heights in my life\n",
      "\n"
     ]
    }
   ],
   "source": [
    "# reading an file\n",
    "with open('example.txt','r') as file:\n",
    "    content = file.read()\n",
    "    print(content)"
   ]
  },
  {
   "cell_type": "code",
   "execution_count": 3,
   "metadata": {},
   "outputs": [
    {
     "name": "stdout",
     "output_type": "stream",
     "text": [
      "helllo myself eklavya nath and\n",
      "i am developing myself daily\n",
      "and i want to achieve great\n",
      "heights in my life\n"
     ]
    }
   ],
   "source": [
    "with open('example.txt','r') as file:\n",
    "    lines = file.readlines()\n",
    "    for line in lines:\n",
    "        print(line.strip())"
   ]
  },
  {
   "cell_type": "code",
   "execution_count": null,
   "metadata": {},
   "outputs": [],
   "source": [
    "# writing an file\n",
    "# (this will overwrite the file)\n",
    "\n",
    "with open('example.txt','w') as file:\n",
    "    file.write('This is the new content I am going to write')\n",
    "    file.write('\\nThis is another line')"
   ]
  },
  {
   "cell_type": "code",
   "execution_count": 5,
   "metadata": {},
   "outputs": [],
   "source": [
    "# Write a file(without overwriting)\n",
    "\n",
    "with open('example.txt','a') as file:\n",
    "    file.write('\\nThis is the new content I am going to write')"
   ]
  },
  {
   "cell_type": "code",
   "execution_count": 6,
   "metadata": {},
   "outputs": [],
   "source": [
    "# writing a list of files to a file\n",
    "\n",
    "lines = ['This is the first line\\n','This is the second line\\n','This is the third line\\n']\n",
    "with open('example.txt','a') as file:\n",
    "    file.writelines(lines)"
   ]
  },
  {
   "cell_type": "code",
   "execution_count": 12,
   "metadata": {},
   "outputs": [],
   "source": [
    "# Writing binary data to a file\n",
    "binary_data = b'\\x48\\x49\\x20\\x54\\x48\\x45\\x52\\x45'\n",
    "with open('example_binary.bin', 'wb') as binary_file:\n",
    "    binary_file.write(binary_data)"
   ]
  },
  {
   "cell_type": "code",
   "execution_count": 13,
   "metadata": {},
   "outputs": [
    {
     "name": "stdout",
     "output_type": "stream",
     "text": [
      "b'HI THERE'\n"
     ]
    }
   ],
   "source": [
    "# Reading a binary file\n",
    "\n",
    "with open('example_binary.bin', 'rb') as binary_file:\n",
    "    binary_content = binary_file.read()\n",
    "    print(binary_content)"
   ]
  },
  {
   "cell_type": "code",
   "execution_count": 14,
   "metadata": {},
   "outputs": [],
   "source": [
    "# reading the content from the source file and writing to the destination file\n",
    "\n",
    "with open('example.txt','r') as file:\n",
    "    content = file.read()\n",
    "\n",
    "with open('destination.txt','w') as file:\n",
    "    file.write(content)"
   ]
  },
  {
   "cell_type": "code",
   "execution_count": 23,
   "metadata": {},
   "outputs": [
    {
     "name": "stdout",
     "output_type": "stream",
     "text": [
      "Lines: 5\n",
      "Words: 38\n",
      "Characters: 178\n"
     ]
    }
   ],
   "source": [
    "with open('example.txt','r') as file:\n",
    "\n",
    "    words = 0\n",
    "    lines = 0 \n",
    "    characters = 0\n",
    "    # content = file.read()\n",
    "    for line in file:\n",
    "        lines += 1\n",
    "        words += len(line.split())\n",
    "        characters += len(line)\n",
    "\n",
    "print(f'Lines: {lines}')\n",
    "print(f'Words: {words}')\n",
    "print(f'Characters: {characters}')"
   ]
  },
  {
   "cell_type": "code",
   "execution_count": null,
   "metadata": {},
   "outputs": [
    {
     "name": "stdout",
     "output_type": "stream",
     "text": [
      "This is the first line\n",
      "This is the second line\n",
      "\n"
     ]
    }
   ],
   "source": [
    "# reading and writing the content to the destination file\n",
    "\n",
    "with open('write.txt','w+') as file:\n",
    "    file.write('This is the first line\\n')\n",
    "    file.write('This is the second line\\n')\n",
    "\n",
    "    # move the cursor to the very beginning of the file\n",
    "    file.seek(0)\n",
    "\n",
    "    # read the content of the file\n",
    "    content = file.read()\n",
    "\n",
    "    print(content)\n"
   ]
  },
  {
   "cell_type": "code",
   "execution_count": null,
   "metadata": {},
   "outputs": [],
   "source": []
  }
 ],
 "metadata": {
  "kernelspec": {
   "display_name": "base",
   "language": "python",
   "name": "python3"
  },
  "language_info": {
   "codemirror_mode": {
    "name": "ipython",
    "version": 3
   },
   "file_extension": ".py",
   "mimetype": "text/x-python",
   "name": "python",
   "nbconvert_exporter": "python",
   "pygments_lexer": "ipython3",
   "version": "3.12.7"
  }
 },
 "nbformat": 4,
 "nbformat_minor": 2
}
