{
 "cells": [
  {
   "cell_type": "code",
   "execution_count": 1,
   "metadata": {},
   "outputs": [
    {
     "name": "stdout",
     "output_type": "stream",
     "text": [
      "Directory 'package' created successfully.\n"
     ]
    }
   ],
   "source": [
    "# creating  a new directory\n",
    "import os\n",
    "\n",
    "new_directory = \"package\"\n",
    "\n",
    "os.mkdir(new_directory)\n",
    "\n",
    "print(f\"Directory '{new_directory}' created successfully.\")"
   ]
  },
  {
   "cell_type": "code",
   "execution_count": 2,
   "metadata": {},
   "outputs": [
    {
     "name": "stdout",
     "output_type": "stream",
     "text": [
      "['.git', 'destination.txt', 'Dictionaries.ipynb', 'directory.ipynb', 'example.txt', 'Examples.ipynb', 'example_binary.bin', 'fileoperation.ipynb', 'funciotnsExamples.ipynb', 'Functions.ipynb', 'lambda.ipynb', 'libraries.ipynb', 'list.ipynb', 'module', 'package', 'python.txt', 'README.md', 'Standard_libraries', 'test.ipynb', 'test.py', 'test2.ipynb', 'Tuples.ipynb', 'write.txt']\n"
     ]
    }
   ],
   "source": [
    "# list all the files in a directory\n",
    "\n",
    "items=os.listdir('.')\n",
    "\n",
    "print(items)"
   ]
  },
  {
   "cell_type": "code",
   "execution_count": null,
   "metadata": {},
   "outputs": [
    {
     "name": "stdout",
     "output_type": "stream",
     "text": [
      "Full path: e:\\gen-ai\\1-pythonbasic\\folder\\file.txt\n"
     ]
    }
   ],
   "source": [
    "# joining the file path\n",
    "dir_name=\"folder\"\n",
    "file_name=\"file.txt\"\n",
    "\n",
    "full_path=os.path.join(os.getcwd(),dir_name,file_name)\n",
    "\n",
    "print(f\"Full path: {full_path}\")"
   ]
  },
  {
   "cell_type": "code",
   "execution_count": null,
   "metadata": {},
   "outputs": [
    {
     "name": "stdout",
     "output_type": "stream",
     "text": [
      "File 'example2.txt' does not exist.\n"
     ]
    }
   ],
   "source": [
    "path='example2.txt'\n",
    "\n",
    "if os.path.exists(path):\n",
    "    print(f\"File '{path}' exists.\")\n",
    "else:\n",
    "    print(f\"File '{path}' does not exist.\")\n",
    "\n",
    "\n",
    "    # isfile(path) , isdir(path)"
   ]
  },
  {
   "cell_type": "code",
   "execution_count": 7,
   "metadata": {},
   "outputs": [
    {
     "name": "stdout",
     "output_type": "stream",
     "text": [
      "Absolute path: e:\\gen-ai\\1-pythonbasic\\example.txt\n"
     ]
    }
   ],
   "source": [
    "# getting the absolute path \n",
    "\n",
    "relative_path='example.txt'\n",
    "\n",
    "abs_path=os.path.abspath(relative_path)\n",
    "print(f\"Absolute path: {abs_path}\")"
   ]
  },
  {
   "cell_type": "code",
   "execution_count": null,
   "metadata": {},
   "outputs": [],
   "source": []
  }
 ],
 "metadata": {
  "kernelspec": {
   "display_name": "base",
   "language": "python",
   "name": "python3"
  },
  "language_info": {
   "codemirror_mode": {
    "name": "ipython",
    "version": 3
   },
   "file_extension": ".py",
   "mimetype": "text/x-python",
   "name": "python",
   "nbconvert_exporter": "python",
   "pygments_lexer": "ipython3",
   "version": "3.12.7"
  }
 },
 "nbformat": 4,
 "nbformat_minor": 2
}
