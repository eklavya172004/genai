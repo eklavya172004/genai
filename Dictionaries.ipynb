{
 "cells": [
  {
   "cell_type": "code",
   "execution_count": 27,
   "metadata": {},
   "outputs": [
    {
     "name": "stdout",
     "output_type": "stream",
     "text": [
      "<class 'dict'>\n"
     ]
    }
   ],
   "source": [
    "# creating an dictionaries\n",
    "empty_dictionary ={}\n",
    "print(type(empty_dictionary))"
   ]
  },
  {
   "cell_type": "code",
   "execution_count": 28,
   "metadata": {},
   "outputs": [
    {
     "name": "stdout",
     "output_type": "stream",
     "text": [
      "{}\n"
     ]
    }
   ],
   "source": [
    "empty_dictionary=dict()\n",
    "print(empty_dictionary)"
   ]
  },
  {
   "cell_type": "code",
   "execution_count": 3,
   "metadata": {},
   "outputs": [
    {
     "name": "stdout",
     "output_type": "stream",
     "text": [
      "{'name': 'eklavya', 'age': 23, 'class': 2027}\n"
     ]
    }
   ],
   "source": [
    "# key value pairs \n",
    "student={\"name\":\"eklavya\",\"age\":23,\"class\":2027}\n",
    "print(student)"
   ]
  },
  {
   "cell_type": "code",
   "execution_count": 4,
   "metadata": {},
   "outputs": [
    {
     "name": "stdout",
     "output_type": "stream",
     "text": [
      "eklavya\n",
      "23\n",
      "not found\n"
     ]
    }
   ],
   "source": [
    "# accessing dictionary elements\n",
    "print(student[\"name\"])\n",
    "print(student.get(\"age\"))\n",
    "print(student.get(\"rollno\",\"not found\")) # if key is not present it will return none or default value\n"
   ]
  },
  {
   "cell_type": "code",
   "execution_count": 5,
   "metadata": {},
   "outputs": [
    {
     "name": "stdout",
     "output_type": "stream",
     "text": [
      "{'name': 'Short', 'age': 23, 'class': 2027}\n",
      "{'name': 'Short', 'age': 23, 'class': 2027, 'rollno': 101}\n"
     ]
    }
   ],
   "source": [
    "# Modifying dictionary elements\n",
    "\n",
    "student[\"name\"]=\"Short\"\n",
    "print(student)  \n",
    "\n",
    "# adding new key-value pair\n",
    "student[\"rollno\"]=101\n",
    "print(student)"
   ]
  },
  {
   "cell_type": "code",
   "execution_count": 6,
   "metadata": {},
   "outputs": [
    {
     "name": "stdout",
     "output_type": "stream",
     "text": [
      "{'name': 'Short', 'age': 23, 'class': 2027}\n"
     ]
    }
   ],
   "source": [
    "del student[\"rollno\"] # deleting key-value pair\n",
    "print(student)"
   ]
  },
  {
   "cell_type": "code",
   "execution_count": 7,
   "metadata": {},
   "outputs": [
    {
     "name": "stdout",
     "output_type": "stream",
     "text": [
      "dict_keys(['name', 'age', 'class'])\n",
      "dict_values(['Short', 23, 2027])\n",
      "dict_items([('name', 'Short'), ('age', 23), ('class', 2027)])\n"
     ]
    }
   ],
   "source": [
    "#Dictionary methods\n",
    "keys=student.keys() #get all the keys\n",
    "print(keys)\n",
    "\n",
    "values=student.values() #get all the values\n",
    "print(values)\n",
    "\n",
    "items=student.items() #get all key-value pairs\n",
    "\n",
    "print(items)"
   ]
  },
  {
   "cell_type": "code",
   "execution_count": null,
   "metadata": {},
   "outputs": [
    {
     "name": "stdout",
     "output_type": "stream",
     "text": [
      "{'name': 'Short', 'age': 23, 'class': 2027}\n",
      "{'name': 'Short', 'age': 23, 'class': 2027}\n",
      "{'name': 'Deep', 'age': 23, 'class': 2027}\n"
     ]
    },
    {
     "ename": "",
     "evalue": "",
     "output_type": "error",
     "traceback": [
      "\u001b[1;31mThe Kernel crashed while executing code in the current cell or a previous cell. \n",
      "\u001b[1;31mPlease review the code in the cell(s) to identify a possible cause of the failure. \n",
      "\u001b[1;31mClick <a href='https://aka.ms/vscodeJupyterKernelCrash'>here</a> for more info. \n",
      "\u001b[1;31mView Jupyter <a href='command:jupyter.viewOutput'>log</a> for further details."
     ]
    }
   ],
   "source": [
    "# shallow copy\n",
    "student_copy=student.copy()\n",
    "print(student_copy)\n",
    "\n",
    "student[\"name\"]=\"Deep\"\n",
    "\n",
    "# the changes in student_copy will reflect in student as well as vice versa\n",
    "print(student_copy)\n",
    "print(student)\n"
   ]
  },
  {
   "cell_type": "code",
   "execution_count": 36,
   "metadata": {},
   "outputs": [
    {
     "name": "stdout",
     "output_type": "stream",
     "text": [
      "name\n",
      "age\n",
      "class\n",
      "Deep\n",
      "23\n",
      "2027\n"
     ]
    }
   ],
   "source": [
    "###Iterating over dictionary\n",
    "# you can use loops to iterate over dictionaries,keys,values or items\n",
    "\n",
    "for key in student:\n",
    "    print(key)\n",
    "\n",
    "for values in student.values():\n",
    "    print(values)\n"
   ]
  },
  {
   "cell_type": "code",
   "execution_count": 38,
   "metadata": {},
   "outputs": [
    {
     "name": "stdout",
     "output_type": "stream",
     "text": [
      "name : Deep\n",
      "age : 23\n",
      "class : 2027\n"
     ]
    }
   ],
   "source": [
    "for key,value in student.items():\n",
    "    print(f\"{key} : {value}\")"
   ]
  },
  {
   "cell_type": "code",
   "execution_count": 40,
   "metadata": {},
   "outputs": [
    {
     "name": "stdout",
     "output_type": "stream",
     "text": [
      "23\n"
     ]
    }
   ],
   "source": [
    "# Nested dictionaries\n",
    "student={\"name\":\"eklavya\",\"age\":23,\"class\":2027,\n",
    "         \"address\":{\n",
    "             \"city\":\"Mumbai\",\n",
    "             \"state\":\"Maharashtra\"}}\n",
    "\n",
    "print(student[\"age\"])"
   ]
  },
  {
   "cell_type": "code",
   "execution_count": 43,
   "metadata": {},
   "outputs": [
    {
     "name": "stdout",
     "output_type": "stream",
     "text": [
      "\n",
      "student1:{'name': 'eklavya', 'age': 23, 'class': 2027}\n",
      "\n",
      "name:eklavya\n",
      "\n",
      "age:23\n",
      "\n",
      "class:2027\n",
      "\n",
      "student2:{'name': 'Deep', 'age': 23, 'class': 2027}\n",
      "\n",
      "name:Deep\n",
      "\n",
      "age:23\n",
      "\n",
      "class:2027\n",
      "\n",
      "student3:{'name': 'Short', 'age': 23, 'class': 2027}\n",
      "\n",
      "name:Short\n",
      "\n",
      "age:23\n",
      "\n",
      "class:2027\n"
     ]
    }
   ],
   "source": [
    "students={\n",
    "    \"student1\":{\"name\":\"eklavya\",\"age\":23,\"class\":2027},\n",
    "    \"student2\":{\"name\":\"Deep\",\"age\":23,\"class\":2027},\n",
    "    \"student3\":{\"name\":\"Short\",\"age\":23,\"class\":2027}\n",
    "}\n",
    "\n",
    "for student_id,student_info in students.items():\n",
    "    print(f\"\\n{student_id}:{student_info}\")\n",
    "    for key,value in student_info.items():\n",
    "        print(f\"\\n{key}:{value}\")"
   ]
  },
  {
   "cell_type": "code",
   "execution_count": 44,
   "metadata": {},
   "outputs": [
    {
     "name": "stdout",
     "output_type": "stream",
     "text": [
      "{0: 0, 1: 1, 2: 4, 3: 9, 4: 16}\n"
     ]
    }
   ],
   "source": [
    "# Dictionary Comprehension\n",
    "squares={x:x**2 for x in range(5)}\n",
    "print(squares)"
   ]
  },
  {
   "cell_type": "code",
   "execution_count": 45,
   "metadata": {},
   "outputs": [
    {
     "name": "stdout",
     "output_type": "stream",
     "text": [
      "{0: 0, 2: 4, 4: 16}\n"
     ]
    }
   ],
   "source": [
    "evens = {x:x**2 for x in range(5) if x%2==0}\n",
    "print(evens)"
   ]
  },
  {
   "cell_type": "code",
   "execution_count": 48,
   "metadata": {},
   "outputs": [
    {
     "name": "stdout",
     "output_type": "stream",
     "text": [
      "{1: 3, 2: 6, 3: 3, 4: 1, 5: 2, 6: 1}\n",
      "{1: 3, 2: 6, 3: 3, 4: 1, 5: 2, 6: 1}\n"
     ]
    }
   ],
   "source": [
    "# Practical examples\n",
    "numbers=[1,1,1,2,2,2,2,2,2,3,3,3,4,5,5,6]\n",
    "frequency={}\n",
    "\n",
    "count_distinct={x:numbers.count(x) for x in numbers }\n",
    "print(count_distinct)\n",
    "\n",
    "for number in numbers:\n",
    "    if number in frequency:\n",
    "        frequency[number]+=1\n",
    "    else:\n",
    "        frequency[number]=1\n",
    "    \n",
    "print(frequency)\n",
    "\n"
   ]
  },
  {
   "cell_type": "code",
   "execution_count": 50,
   "metadata": {},
   "outputs": [
    {
     "name": "stdout",
     "output_type": "stream",
     "text": [
      "{1: 1, 2: 2, 3: 3, 4: 4, 5: 5, 7: 7, 9: 9}\n"
     ]
    }
   ],
   "source": [
    "dictionary1={1:1,2:2,3:3,4:4,5:5}\n",
    "dictionary2={1:1,3:3,5:5,7:7,9:9}\n",
    "\n",
    "combined_dict={**dictionary1,**dictionary2}\n",
    "\n",
    "print(combined_dict)"
   ]
  },
  {
   "cell_type": "code",
   "execution_count": null,
   "metadata": {},
   "outputs": [],
   "source": []
  }
 ],
 "metadata": {
  "kernelspec": {
   "display_name": "gen-ai",
   "language": "python",
   "name": "python3"
  },
  "language_info": {
   "codemirror_mode": {
    "name": "ipython",
    "version": 3
   },
   "file_extension": ".py",
   "mimetype": "text/x-python",
   "name": "python",
   "nbconvert_exporter": "python",
   "pygments_lexer": "ipython3",
   "version": "3.12.9"
  }
 },
 "nbformat": 4,
 "nbformat_minor": 2
}
