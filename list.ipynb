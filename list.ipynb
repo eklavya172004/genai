{
 "cells": [
  {
   "cell_type": "code",
   "execution_count": null,
   "metadata": {},
   "outputs": [],
   "source": [
    "# TOPIC OF DISCUSSION LIST AND LSIT COMPRESSION\n",
    "\n",
    "\n",
    "## Basic syntax [expression for item in iterable]\n",
    "#               [expression for item in iterable if condition]\n",
    "# NESTED LIST COMPPRESSION [expression for item1 in iterable1 for item2 in iterable2]"
   ]
  },
  {
   "cell_type": "code",
   "execution_count": 1,
   "metadata": {},
   "outputs": [
    {
     "name": "stdout",
     "output_type": "stream",
     "text": [
      "The original list is : ['eklavya', 1, 2, 3, 4, 5, 6]\n"
     ]
    }
   ],
   "source": [
    "mixed_list=[\"eklavya\",1,2,3,4,5,6]\n",
    "print(\"The original list is : \" + str(mixed_list))"
   ]
  },
  {
   "cell_type": "code",
   "execution_count": 1,
   "metadata": {},
   "outputs": [
    {
     "data": {
      "text/plain": [
       "'dates'"
      ]
     },
     "execution_count": 1,
     "metadata": {},
     "output_type": "execute_result"
    }
   ],
   "source": [
    "# acessing list\n",
    "mixed_list=[\"apple\",\"banana\",\"cherry\",\"dates\",\"grapes\",\"kiwi\",\"mango\"]\n",
    "\n",
    "# Sorting the list in descending order\n",
    "mixed_list[3]"
   ]
  },
  {
   "cell_type": "code",
   "execution_count": 3,
   "metadata": {},
   "outputs": [
    {
     "name": "stdout",
     "output_type": "stream",
     "text": [
      "[3, 4, 5]\n",
      "[1, 2, 3, 4]\n",
      "[6, 7, 8, 9, 10]\n",
      "[1, 3, 5, 7, 9]\n",
      "[10, 9, 8, 7, 6, 5, 4, 3, 2, 1]\n"
     ]
    }
   ],
   "source": [
    "# mixed_list.append() will add the item to the end of the list\n",
    "\n",
    "# mixed_list.insert(1,\"fejfjf\") will add item to the list at 1 index\n",
    "\n",
    "# mixed_list.remove(\"graped\") # will remove the item from the list with first occurance of the index\n",
    "# mixed_list.reverse();\n",
    "# mixed_list.sort(); # will sort the list in ascending order  \n",
    "# mixed_list.clear() # will clear the list\n",
    "\n",
    "# slicing list\n",
    "numbers=[1,2,3,4,5,6,7,8,9,10]\n",
    "print(numbers[2:5])\n",
    "print(numbers[:4])\n",
    "print(numbers[5:])\n",
    "print(numbers[::2])\n",
    "print(numbers[::-1])\n",
    "\n",
    "# Counting the number of elements in the list"
   ]
  },
  {
   "cell_type": "code",
   "execution_count": 4,
   "metadata": {},
   "outputs": [
    {
     "name": "stdout",
     "output_type": "stream",
     "text": [
      "[0, 1, 4, 9, 16, 25, 36, 49, 64, 81]\n"
     ]
    }
   ],
   "source": [
    "# List comprehension\n",
    "# List comprehension is an elegant way to define and create lists based on existing lists.\n",
    "lst=[]\n",
    "\n",
    "for x in range(10):\n",
    "    lst.append(x**2)\n",
    "\n",
    "print(lst)"
   ]
  },
  {
   "cell_type": "code",
   "execution_count": null,
   "metadata": {},
   "outputs": [
    {
     "data": {
      "text/plain": [
       "[0, 1, 4, 9, 16, 25, 36, 49, 64, 81]"
      ]
     },
     "execution_count": 5,
     "metadata": {},
     "output_type": "execute_result"
    }
   ],
   "source": [
    "# other way if writing the list\n",
    "[x**2 for x in range(10)]\n",
    "\n",
    "# Basic syntax [expression for item in iterable]\n"
   ]
  },
  {
   "cell_type": "code",
   "execution_count": 6,
   "metadata": {},
   "outputs": [
    {
     "name": "stdout",
     "output_type": "stream",
     "text": [
      "[0, 2, 4, 6, 8]\n"
     ]
    }
   ],
   "source": [
    "even_numbers=[num for num in range(10) if num%2==0]\n",
    "print(even_numbers)"
   ]
  },
  {
   "cell_type": "code",
   "execution_count": null,
   "metadata": {},
   "outputs": [],
   "source": [
    "lst=[]\n",
    "\n",
    "for x in range(10):\n",
    "    if x%2==0:\n",
    "        lst.append(x)\n",
    "print(lst)"
   ]
  },
  {
   "cell_type": "code",
   "execution_count": 7,
   "metadata": {},
   "outputs": [
    {
     "name": "stdout",
     "output_type": "stream",
     "text": [
      "[[1, 'a'], [1, 'b'], [1, 'c'], [1, 'd'], [1, 'e'], [2, 'a'], [2, 'b'], [2, 'c'], [2, 'd'], [2, 'e'], [3, 'a'], [3, 'b'], [3, 'c'], [3, 'd'], [3, 'e'], [4, 'a'], [4, 'b'], [4, 'c'], [4, 'd'], [4, 'e'], [5, 'a'], [5, 'b'], [5, 'c'], [5, 'd'], [5, 'e']]\n"
     ]
    }
   ],
   "source": [
    "# Nested list comprehension\n",
    "lst1=[1,2,3,4,5]\n",
    "lst2=['a','b','c','d','e']\n",
    "\n",
    "result=[[i,j] for i in lst1 for j in lst2]\n",
    "\n",
    "print(result)"
   ]
  },
  {
   "cell_type": "code",
   "execution_count": 8,
   "metadata": {},
   "outputs": [
    {
     "name": "stdout",
     "output_type": "stream",
     "text": [
      "[5, 5, 6, 4, 13]\n"
     ]
    }
   ],
   "source": [
    "# List comprehension with function calls\n",
    "\n",
    "words=[\"hello\",\"world\",\"python\",\"list\",\"comprehension\"]\n",
    "\n",
    "lengths=[len(word) for word in words]\n",
    "\n",
    "print(lengths)"
   ]
  },
  {
   "cell_type": "code",
   "execution_count": null,
   "metadata": {},
   "outputs": [],
   "source": []
  }
 ],
 "metadata": {
  "kernelspec": {
   "display_name": "Python 3",
   "language": "python",
   "name": "python3"
  },
  "language_info": {
   "codemirror_mode": {
    "name": "ipython",
    "version": 3
   },
   "file_extension": ".py",
   "mimetype": "text/x-python",
   "name": "python",
   "nbconvert_exporter": "python",
   "pygments_lexer": "ipython3",
   "version": "3.12.0"
  }
 },
 "nbformat": 4,
 "nbformat_minor": 2
}
