{
 "cells": [
  {
   "cell_type": "code",
   "execution_count": 1,
   "metadata": {},
   "outputs": [
    {
     "name": "stdout",
     "output_type": "stream",
     "text": [
      "<class 'float'>\n",
      "<class 'int'>\n",
      "<class 'str'>\n"
     ]
    }
   ],
   "source": [
    "age=23\n",
    "name=\"eklavya\"\n",
    "money=200.23\n",
    "\n",
    "print(type(money))\n",
    "print(type(age))\n",
    "print(type(name))"
   ]
  },
  {
   "cell_type": "code",
   "execution_count": null,
   "metadata": {},
   "outputs": [
    {
     "name": "stdout",
     "output_type": "stream",
     "text": [
      "23\n",
      "<class 'str'>\n",
      "200.0\n",
      "<class 'float'>\n",
      "Eklavya\n",
      "<class 'str'>\n"
     ]
    }
   ],
   "source": [
    "# type conversion\n",
    "age=str(age)\n",
    "print(age)\n",
    "print(type(age))\n",
    "\n",
    "money=float(int(money))\n",
    "print(money)\n",
    "print(type(money))\n",
    "\n",
    "# dynamic conversion\n",
    "money=\"Eklavya\"\n",
    "print(money)\n",
    "print(type(money))"
   ]
  },
  {
   "cell_type": "code",
   "execution_count": 7,
   "metadata": {},
   "outputs": [
    {
     "name": "stdout",
     "output_type": "stream",
     "text": [
      "Addition:  5.0\n",
      "Subtraction:  1.0\n",
      "Multiplication:  6.0\n",
      "Division:  1.5\n"
     ]
    }
   ],
   "source": [
    "# Calculator\n",
    "\n",
    "num1=float(input(\"Enter the number 1: \"))\n",
    "num2=float(input(\"Enter the number 2: \"))\n",
    "\n",
    "add=num1+num2\n",
    "subtract=num1-num2\n",
    "multiply=num1*num2\n",
    "divide=num1/num2\n",
    "\n",
    "print(\"Addition: \", add)\n",
    "print(\"Subtraction: \", subtract)\n",
    "print(\"Multiplication: \", multiply)\n",
    "print(\"Division: \", divide)"
   ]
  },
  {
   "cell_type": "code",
   "execution_count": null,
   "metadata": {},
   "outputs": [],
   "source": []
  },
  {
   "cell_type": "code",
   "execution_count": null,
   "metadata": {},
   "outputs": [],
   "source": []
  }
 ],
 "metadata": {
  "kernelspec": {
   "display_name": "Python 3",
   "language": "python",
   "name": "python3"
  },
  "language_info": {
   "codemirror_mode": {
    "name": "ipython",
    "version": 3
   },
   "file_extension": ".py",
   "mimetype": "text/x-python",
   "name": "python",
   "nbconvert_exporter": "python",
   "pygments_lexer": "ipython3",
   "version": "3.12.0"
  }
 },
 "nbformat": 4,
 "nbformat_minor": 2
}
