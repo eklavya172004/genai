{
 "cells": [
  {
   "cell_type": "markdown",
   "id": "a38c790b",
   "metadata": {},
   "source": [
    "Stemming"
   ]
  },
  {
   "cell_type": "code",
   "execution_count": 4,
   "id": "f74b35b9",
   "metadata": {},
   "outputs": [],
   "source": [
    "words=[\"eating\",\"eat\",\"eaten\",\"eats\",\"eater\",\"eaters\",\"eating\",\"eats\",\"eatery\",\"eateries\",\"eatery\",\"writing\",\"writes\",\"writer\",\"writers\",\"write\",\"wrote\",\"written\",\"writes\",\"writing\"]\n"
   ]
  },
  {
   "cell_type": "markdown",
   "id": "58ebf394",
   "metadata": {},
   "source": [
    "PorterStemmer"
   ]
  },
  {
   "cell_type": "code",
   "execution_count": 1,
   "id": "cced4138",
   "metadata": {},
   "outputs": [],
   "source": [
    "from nltk.stem import PorterStemmer"
   ]
  },
  {
   "cell_type": "code",
   "execution_count": null,
   "id": "0748cc5c",
   "metadata": {},
   "outputs": [],
   "source": [
    "stemming=PorterStemmer()"
   ]
  },
  {
   "cell_type": "code",
   "execution_count": 5,
   "id": "bf1f6a85",
   "metadata": {},
   "outputs": [
    {
     "name": "stdout",
     "output_type": "stream",
     "text": [
      "eating -> eat\n",
      "eat -> eat\n",
      "eaten -> eaten\n",
      "eats -> eat\n",
      "eater -> eater\n",
      "eaters -> eater\n",
      "eating -> eat\n",
      "eats -> eat\n",
      "eatery -> eateri\n",
      "eateries -> eateri\n",
      "eatery -> eateri\n",
      "writing -> write\n",
      "writes -> write\n",
      "writer -> writer\n",
      "writers -> writer\n",
      "write -> write\n",
      "wrote -> wrote\n",
      "written -> written\n",
      "writes -> write\n",
      "writing -> write\n"
     ]
    }
   ],
   "source": [
    "for word in words:\n",
    "    print(f\"{word} -> {stemming.stem(word)}\")"
   ]
  },
  {
   "cell_type": "code",
   "execution_count": 6,
   "id": "819ccd97",
   "metadata": {},
   "outputs": [],
   "source": [
    "from nltk.stem import RegexpStemmer"
   ]
  },
  {
   "cell_type": "code",
   "execution_count": 10,
   "id": "ffe516f0",
   "metadata": {},
   "outputs": [],
   "source": [
    "reg_stemmer=RegexpStemmer('ing|s$|es$|able$')"
   ]
  },
  {
   "cell_type": "code",
   "execution_count": 11,
   "id": "8fd3f706",
   "metadata": {},
   "outputs": [
    {
     "data": {
      "text/plain": [
       "'eat'"
      ]
     },
     "execution_count": 11,
     "metadata": {},
     "output_type": "execute_result"
    }
   ],
   "source": [
    "reg_stemmer.stem(\"eating\")"
   ]
  },
  {
   "cell_type": "code",
   "execution_count": 12,
   "id": "cec96c43",
   "metadata": {},
   "outputs": [
    {
     "data": {
      "text/plain": [
       "'eat'"
      ]
     },
     "execution_count": 12,
     "metadata": {},
     "output_type": "execute_result"
    }
   ],
   "source": [
    "reg_stemmer.stem(\"ingingingingingeat\")"
   ]
  },
  {
   "cell_type": "code",
   "execution_count": 13,
   "id": "a093928f",
   "metadata": {},
   "outputs": [],
   "source": [
    "from nltk.stem import SnowballStemmer"
   ]
  },
  {
   "cell_type": "code",
   "execution_count": 14,
   "id": "82f9dcae",
   "metadata": {},
   "outputs": [],
   "source": [
    "snowball_stemmer=SnowballStemmer(\"english\")"
   ]
  },
  {
   "cell_type": "code",
   "execution_count": 15,
   "id": "5d3c5223",
   "metadata": {},
   "outputs": [
    {
     "name": "stdout",
     "output_type": "stream",
     "text": [
      "eating------>eat\n",
      "eat------>eat\n",
      "eaten------>eaten\n",
      "eats------>eat\n",
      "eater------>eater\n",
      "eaters------>eater\n",
      "eating------>eat\n",
      "eats------>eat\n",
      "eatery------>eateri\n",
      "eateries------>eateri\n",
      "eatery------>eateri\n",
      "writing------>write\n",
      "writes------>write\n",
      "writer------>writer\n",
      "writers------>writer\n",
      "write------>write\n",
      "wrote------>wrote\n",
      "written------>written\n",
      "writes------>write\n",
      "writing------>write\n"
     ]
    }
   ],
   "source": [
    "for word in words:\n",
    "    print(word+\"------>\"+snowball_stemmer.stem(word))"
   ]
  },
  {
   "cell_type": "code",
   "execution_count": 20,
   "id": "8ba5e32e",
   "metadata": {},
   "outputs": [
    {
     "data": {
      "text/plain": [
       "('fairli', 'sportingli')"
      ]
     },
     "execution_count": 20,
     "metadata": {},
     "output_type": "execute_result"
    }
   ],
   "source": [
    "stemming.stem(\"fairly\"),stemming.stem(\"sportingly\")"
   ]
  },
  {
   "cell_type": "code",
   "execution_count": 21,
   "id": "19043d47",
   "metadata": {},
   "outputs": [
    {
     "data": {
      "text/plain": [
       "('fair', 'sport')"
      ]
     },
     "execution_count": 21,
     "metadata": {},
     "output_type": "execute_result"
    }
   ],
   "source": [
    "snowball_stemmer.stem(\"fairly\"),snowball_stemmer.stem(\"sportingly\")"
   ]
  },
  {
   "cell_type": "code",
   "execution_count": null,
   "id": "34105b97",
   "metadata": {},
   "outputs": [],
   "source": []
  }
 ],
 "metadata": {
  "kernelspec": {
   "display_name": "base",
   "language": "python",
   "name": "python3"
  },
  "language_info": {
   "codemirror_mode": {
    "name": "ipython",
    "version": 3
   },
   "file_extension": ".py",
   "mimetype": "text/x-python",
   "name": "python",
   "nbconvert_exporter": "python",
   "pygments_lexer": "ipython3",
   "version": "3.12.7"
  }
 },
 "nbformat": 4,
 "nbformat_minor": 5
}
